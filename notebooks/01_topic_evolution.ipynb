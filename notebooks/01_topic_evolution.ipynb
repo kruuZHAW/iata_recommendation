{
 "cells": [
  {
   "cell_type": "code",
   "execution_count": 1,
   "id": "e358c8be",
   "metadata": {},
   "outputs": [
    {
     "name": "stderr",
     "output_type": "stream",
     "text": [
      "c:\\Users\\kruu\\git_folder\\iata_recommendation\\.venv\\Lib\\site-packages\\tqdm\\auto.py:21: TqdmWarning: IProgress not found. Please update jupyter and ipywidgets. See https://ipywidgets.readthedocs.io/en/stable/user_install.html\n",
      "  from .autonotebook import tqdm as notebook_tqdm\n",
      "[nltk_data] Downloading package punkt to\n",
      "[nltk_data]     C:\\Users\\kruu\\AppData\\Roaming\\nltk_data...\n",
      "[nltk_data]   Package punkt is already up-to-date!\n",
      "[nltk_data] Downloading package stopwords to\n",
      "[nltk_data]     C:\\Users\\kruu\\AppData\\Roaming\\nltk_data...\n",
      "[nltk_data]   Package stopwords is already up-to-date!\n"
     ]
    }
   ],
   "source": [
    "import os\n",
    "import sys\n",
    "\n",
    "import re\n",
    "import pandas as pd\n",
    "import matplotlib.pyplot as plt\n",
    "import seaborn as sns\n",
    "from pathlib import Path\n",
    "from sklearn.feature_extraction.text import CountVectorizer\n",
    "from sklearn.feature_extraction import text\n",
    "from sentence_transformers import SentenceTransformer\n",
    "from bertopic import BERTopic\n",
    "\n",
    "current_dir = os.getcwd()\n",
    "parent_dir = os.path.abspath(os.path.join(current_dir, \"..\"))\n",
    "sys.path.append(parent_dir)\n",
    "\n",
    "\n",
    "from src.utils import IATAProcessor\n",
    "processor = IATAProcessor(custom_stopwords=[\"iata\", \"aviation\", \"air\", \"industry\", \"iatas\", \"airlines\", \"aircraft\", \"billion\", \"million\", \"travel\"])\n",
    "\n",
    "embedding_model = SentenceTransformer(\"all-MiniLM-L6-v2\")"
   ]
  },
  {
   "cell_type": "markdown",
   "id": "59d6637f",
   "metadata": {},
   "source": [
    "****\n",
    "# Topic Extraction\n",
    "****"
   ]
  },
  {
   "cell_type": "markdown",
   "id": "8b87cc3d",
   "metadata": {},
   "source": [
    "Processing tasks:\n",
    "- Extract text from pdf\n",
    "- Chunk text into group of sentences (default 5) using sent_tokenize\n",
    "- Clean chunks by converting to lowercases, removing ponctuation and stopwords\n",
    "\n",
    "Embedding:\n",
    "- Using HugginFace MiniLM-L6-v2\n",
    "\n",
    "Topic Modeling:\n",
    "- Use BERTopic\n",
    "- First dimensionality reduction using UMAP\n",
    "- Then HDBSCAN for clustering chunks with similar semantics\n",
    "- Finaly TF-IDF to rank keywords that represent each topic\n",
    "- Using vectorizer in BERTopi to specify how to turn the clean text into a bag-of-words representation for keyword representation."
   ]
  },
  {
   "cell_type": "code",
   "execution_count": 2,
   "id": "d93dcc03",
   "metadata": {},
   "outputs": [
    {
     "name": "stdout",
     "output_type": "stream",
     "text": [
      "Processing iata-annual-review-2005.pdf for year 2005\n"
     ]
    },
    {
     "name": "stderr",
     "output_type": "stream",
     "text": [
      "Batches: 100%|██████████| 5/5 [00:02<00:00,  1.93it/s]\n"
     ]
    },
    {
     "name": "stdout",
     "output_type": "stream",
     "text": [
      "Proportion of unassigned chunks: 0.4375\n",
      "\n",
      "Processing iata-annual-review-2006.pdf for year 2006\n"
     ]
    },
    {
     "name": "stderr",
     "output_type": "stream",
     "text": [
      "Batches: 100%|██████████| 5/5 [00:02<00:00,  1.97it/s]\n"
     ]
    },
    {
     "name": "stdout",
     "output_type": "stream",
     "text": [
      "Proportion of unassigned chunks: 0.18238993710691823\n",
      "\n",
      "Processing iata-annual-review-2007.pdf for year 2007\n"
     ]
    },
    {
     "name": "stderr",
     "output_type": "stream",
     "text": [
      "Batches: 100%|██████████| 5/5 [00:03<00:00,  1.42it/s]\n"
     ]
    },
    {
     "name": "stdout",
     "output_type": "stream",
     "text": [
      "Proportion of unassigned chunks: 0.14388489208633093\n",
      "\n",
      "Processing iata-annual-review-2008.pdf for year 2008\n"
     ]
    },
    {
     "name": "stderr",
     "output_type": "stream",
     "text": [
      "Batches: 100%|██████████| 5/5 [00:02<00:00,  2.10it/s]\n"
     ]
    },
    {
     "name": "stdout",
     "output_type": "stream",
     "text": [
      "Proportion of unassigned chunks: 0.0\n",
      "\n",
      "Processing iata-annual-review-2009.pdf for year 2009\n"
     ]
    },
    {
     "name": "stderr",
     "output_type": "stream",
     "text": [
      "Batches: 100%|██████████| 5/5 [00:02<00:00,  1.91it/s]\n"
     ]
    },
    {
     "name": "stdout",
     "output_type": "stream",
     "text": [
      "Proportion of unassigned chunks: 0.0\n",
      "\n",
      "Processing iata-annual-review-2010.pdf for year 2010\n"
     ]
    },
    {
     "name": "stderr",
     "output_type": "stream",
     "text": [
      "Batches: 100%|██████████| 5/5 [00:02<00:00,  1.98it/s]\n"
     ]
    },
    {
     "name": "stdout",
     "output_type": "stream",
     "text": [
      "Proportion of unassigned chunks: 0.0\n",
      "\n",
      "Processing iata-annual-review-2011.pdf for year 2011\n"
     ]
    },
    {
     "name": "stderr",
     "output_type": "stream",
     "text": [
      "Batches: 100%|██████████| 6/6 [00:02<00:00,  2.17it/s]\n"
     ]
    },
    {
     "name": "stdout",
     "output_type": "stream",
     "text": [
      "Proportion of unassigned chunks: 0.0\n",
      "\n",
      "Processing iata-annual-review-2012.pdf for year 2012\n"
     ]
    },
    {
     "name": "stderr",
     "output_type": "stream",
     "text": [
      "Batches: 100%|██████████| 6/6 [00:02<00:00,  2.22it/s]\n"
     ]
    },
    {
     "name": "stdout",
     "output_type": "stream",
     "text": [
      "Proportion of unassigned chunks: 0.0\n",
      "\n",
      "Processing iata-annual-review-2013.pdf for year 2013\n"
     ]
    },
    {
     "name": "stderr",
     "output_type": "stream",
     "text": [
      "Batches: 100%|██████████| 8/8 [00:04<00:00,  1.82it/s]\n"
     ]
    },
    {
     "name": "stdout",
     "output_type": "stream",
     "text": [
      "Proportion of unassigned chunks: 0.07725321888412018\n",
      "\n",
      "Processing iata-annual-review-2014.pdf for year 2014\n"
     ]
    },
    {
     "name": "stderr",
     "output_type": "stream",
     "text": [
      "Batches: 100%|██████████| 7/7 [00:03<00:00,  2.12it/s]\n"
     ]
    },
    {
     "name": "stdout",
     "output_type": "stream",
     "text": [
      "Proportion of unassigned chunks: 0.32673267326732675\n",
      "\n",
      "Processing iata-annual-review-2015.pdf for year 2015\n"
     ]
    },
    {
     "name": "stderr",
     "output_type": "stream",
     "text": [
      "Batches: 100%|██████████| 7/7 [00:04<00:00,  1.55it/s]\n"
     ]
    },
    {
     "name": "stdout",
     "output_type": "stream",
     "text": [
      "Proportion of unassigned chunks: 0.0\n",
      "\n",
      "Processing iata-annual-review-2016.pdf for year 2016\n"
     ]
    },
    {
     "name": "stderr",
     "output_type": "stream",
     "text": [
      "Batches: 100%|██████████| 7/7 [00:03<00:00,  2.20it/s]\n"
     ]
    },
    {
     "name": "stdout",
     "output_type": "stream",
     "text": [
      "Proportion of unassigned chunks: 0.3165829145728643\n",
      "\n",
      "Processing iata-annual-review-2017.pdf for year 2017\n"
     ]
    },
    {
     "name": "stderr",
     "output_type": "stream",
     "text": [
      "Batches: 100%|██████████| 6/6 [00:03<00:00,  1.90it/s]\n"
     ]
    },
    {
     "name": "stdout",
     "output_type": "stream",
     "text": [
      "Proportion of unassigned chunks: 0.1588235294117647\n",
      "\n",
      "Processing iata-annual-review-2018.pdf for year 2018\n"
     ]
    },
    {
     "name": "stderr",
     "output_type": "stream",
     "text": [
      "Batches: 100%|██████████| 6/6 [00:03<00:00,  1.53it/s]\n"
     ]
    },
    {
     "name": "stdout",
     "output_type": "stream",
     "text": [
      "Proportion of unassigned chunks: 0.31137724550898205\n",
      "\n",
      "Processing iata-annual-review-2019.pdf for year 2019\n"
     ]
    },
    {
     "name": "stderr",
     "output_type": "stream",
     "text": [
      "Batches: 100%|██████████| 6/6 [00:05<00:00,  1.02it/s]\n"
     ]
    },
    {
     "name": "stdout",
     "output_type": "stream",
     "text": [
      "Proportion of unassigned chunks: 0.1348314606741573\n",
      "\n",
      "Processing iata-annual-review-2020.pdf for year 2020\n"
     ]
    },
    {
     "name": "stderr",
     "output_type": "stream",
     "text": [
      "Batches: 100%|██████████| 5/5 [00:02<00:00,  1.72it/s]\n"
     ]
    },
    {
     "name": "stdout",
     "output_type": "stream",
     "text": [
      "Proportion of unassigned chunks: 0.3795620437956204\n",
      "\n",
      "Processing iata-annual-review-2021.pdf for year 2021\n"
     ]
    },
    {
     "name": "stderr",
     "output_type": "stream",
     "text": [
      "Batches: 100%|██████████| 4/4 [00:02<00:00,  1.95it/s]\n"
     ]
    },
    {
     "name": "stdout",
     "output_type": "stream",
     "text": [
      "Proportion of unassigned chunks: 0.3\n",
      "\n",
      "Processing iata-annual-review-2022.pdf for year 2022\n"
     ]
    },
    {
     "name": "stderr",
     "output_type": "stream",
     "text": [
      "Batches: 100%|██████████| 4/4 [00:01<00:00,  2.07it/s]\n"
     ]
    },
    {
     "name": "stdout",
     "output_type": "stream",
     "text": [
      "Proportion of unassigned chunks: 0.28865979381443296\n",
      "\n",
      "Processing iata-annual-review-2023.pdf for year 2023\n"
     ]
    },
    {
     "name": "stderr",
     "output_type": "stream",
     "text": [
      "Batches: 100%|██████████| 5/5 [00:03<00:00,  1.59it/s]\n"
     ]
    },
    {
     "name": "stdout",
     "output_type": "stream",
     "text": [
      "Proportion of unassigned chunks: 0.0\n",
      "\n",
      "Processing iata-annual-review-2024.pdf for year 2024\n"
     ]
    },
    {
     "name": "stderr",
     "output_type": "stream",
     "text": [
      "Batches: 100%|██████████| 6/6 [00:03<00:00,  1.98it/s]\n"
     ]
    },
    {
     "name": "stdout",
     "output_type": "stream",
     "text": [
      "Proportion of unassigned chunks: 0.0\n",
      "\n"
     ]
    }
   ],
   "source": [
    "data_dir = Path(\"../data\")\n",
    "pdf_files = sorted(data_dir.glob(\"iata-annual-review-*.pdf\"))\n",
    "\n",
    "yearly_topic_data = []\n",
    "\n",
    "for pdf in pdf_files:\n",
    "    year_match = re.search(r\"(\\d{4})\", pdf.stem)\n",
    "    if not year_match:\n",
    "        continue\n",
    "    year = int(year_match.group(1))\n",
    "\n",
    "    print(f\"Processing {pdf.name} for year {year}\")\n",
    "    cleaned_chunks = processor.preprocess_pdf(pdf, chunk_size=5)\n",
    "    embeddings = embedding_model.encode(cleaned_chunks, show_progress_bar=True)\n",
    "\n",
    "    vectorizer = CountVectorizer(stop_words=list(processor.stopwords))\n",
    "    topic_model = BERTopic(vectorizer_model=vectorizer, verbose=False)\n",
    "    topics, _ = topic_model.fit_transform(cleaned_chunks, embeddings)\n",
    "    \n",
    "    topic_keywords = {\n",
    "        topic_id: \", \".join([word for word, _ in topic_model.get_topic(topic_id)])\n",
    "        for topic_id in set(topics)\n",
    "        if topic_id != -1  # exclude outlier topic\n",
    "    }\n",
    "\n",
    "    df = pd.DataFrame({\n",
    "        \"year\": [year] * len(cleaned_chunks),\n",
    "        \"chunk\": cleaned_chunks,\n",
    "        \"topic\": topics\n",
    "    })\n",
    "    \n",
    "    print(f\"Proportion of unassigned chunks: {len(df[df.topic == -1]) / len(cleaned_chunks)}\", end = \"\\n\\n\")\n",
    "    \n",
    "    df = df[df.topic != -1]  # Remove outliers\n",
    "\n",
    "    df[\"topic_label\"] = df[\"topic\"].map(topic_keywords)\n",
    "    \n",
    "    yearly_topic_data.append((year, topic_model, df))\n"
   ]
  },
  {
   "cell_type": "code",
   "execution_count": 3,
   "id": "02af48b5",
   "metadata": {},
   "outputs": [
    {
     "name": "stdout",
     "output_type": "stream",
     "text": [
      "2005 — Top Words:\n",
      "   new: 56\n",
      "   business: 35\n",
      "   airline: 35\n",
      "   safety: 33\n",
      "   security: 33\n",
      "2006 — Top Words:\n",
      "   safety: 69\n",
      "   security: 69\n",
      "   cargo: 69\n",
      "   data: 69\n",
      "   service: 69\n",
      "2007 — Top Words:\n",
      "   fuel: 57\n",
      "   emissions: 57\n",
      "   charges: 57\n",
      "   years: 57\n",
      "   cost: 57\n",
      "2008 — Top Words:\n",
      "   passenger: 141\n",
      "   safety: 121\n",
      "   new: 121\n",
      "   airports: 121\n",
      "   cargo: 121\n",
      "2009 — Top Words:\n",
      "   fuel: 137\n",
      "   cargo: 137\n",
      "   security: 137\n",
      "   savings: 137\n",
      "   new: 137\n",
      "2010 — Top Words:\n",
      "   safety: 128\n",
      "   cargo: 128\n",
      "   airports: 128\n",
      "   global: 128\n",
      "   program: 128\n",
      "2011 — Top Words:\n",
      "   safety: 140\n",
      "   security: 140\n",
      "   program: 140\n",
      "   global: 140\n",
      "   airports: 140\n",
      "2012 — Top Words:\n",
      "   airline: 174\n",
      "   global: 153\n",
      "   safety: 153\n",
      "   passenger: 153\n",
      "   security: 153\n",
      "2013 — Top Words:\n",
      "   passenger: 140\n",
      "   fuel: 109\n",
      "   cargo: 106\n",
      "   security: 106\n",
      "   passengers: 106\n",
      "2014 — Top Words:\n",
      "   passenger: 57\n",
      "   fuel: 43\n",
      "   emissions: 30\n",
      "   icao: 30\n",
      "   global: 30\n",
      "2015 — Top Words:\n",
      "   cargo: 200\n",
      "   passenger: 200\n",
      "   safety: 200\n",
      "   global: 200\n",
      "   security: 200\n",
      "2016 — Top Words:\n",
      "   passenger: 53\n",
      "   global: 45\n",
      "   regulation: 44\n",
      "   fuel: 43\n",
      "   ndc: 30\n",
      "2017 — Top Words:\n",
      "   global: 61\n",
      "   cargo: 45\n",
      "   data: 45\n",
      "   solutions: 45\n",
      "   ndc: 45\n",
      "2018 — Top Words:\n",
      "   airline: 53\n",
      "   global: 51\n",
      "   airports: 49\n",
      "   data: 47\n",
      "   airport: 36\n",
      "2019 — Top Words:\n",
      "   airport: 43\n",
      "   infrastructure: 43\n",
      "   airports: 43\n",
      "   capacity: 43\n",
      "   slot: 43\n",
      "2020 — Top Words:\n",
      "   covid: 45\n",
      "   measures: 45\n",
      "   health: 45\n",
      "   governments: 45\n",
      "   testing: 45\n",
      "2021 — Top Words:\n",
      "   demand: 46\n",
      "   executive: 32\n",
      "   officer: 32\n",
      "   chief: 32\n",
      "   saf: 32\n",
      "2022 — Top Words:\n",
      "   saf: 39\n",
      "   emissions: 39\n",
      "   governments: 39\n",
      "   slot: 39\n",
      "   carbon: 39\n",
      "2023 — Top Words:\n",
      "   passenger: 146\n",
      "   safety: 125\n",
      "   airline: 125\n",
      "   review: 125\n",
      "   annual: 125\n",
      "2024 — Top Words:\n",
      "   cargo: 187\n",
      "   international: 187\n",
      "   safety: 166\n",
      "   saf: 166\n",
      "   airport: 166\n"
     ]
    }
   ],
   "source": [
    "from collections import defaultdict, Counter\n",
    "\n",
    "# year -> Counter of words (with frequency from repeated labels)\n",
    "yearly_word_counts = defaultdict(Counter)\n",
    "\n",
    "for year, model, df in yearly_topic_data:\n",
    "    # Count how many times each topic_label appears\n",
    "    label_counts = df[\"topic_label\"].value_counts()\n",
    "    \n",
    "    for label, count in label_counts.items():\n",
    "        words = label.lower().split(\", \")\n",
    "        for word in words:\n",
    "            yearly_word_counts[year][word] += count\n",
    "            \n",
    "for year in sorted(yearly_word_counts):\n",
    "    print(f\"{year} — Top Words:\")\n",
    "    for word, count in yearly_word_counts[year].most_common(5):\n",
    "        print(f\"   {word}: {count}\", end = \"\\n\")"
   ]
  },
  {
   "cell_type": "markdown",
   "id": "8f539e80",
   "metadata": {},
   "source": [
    "****\n",
    "# Grouping similar Topic ID through semantics\n",
    "****"
   ]
  },
  {
   "cell_type": "markdown",
   "id": "708bb04d",
   "metadata": {},
   "source": [
    "Evaluate topic evolution:\n",
    "- Create embeddings on the previously found topic ids for all years\n",
    "- Group similar embeddings with Kmeans"
   ]
  },
  {
   "cell_type": "code",
   "execution_count": 48,
   "id": "520b6316",
   "metadata": {},
   "outputs": [],
   "source": [
    "encoder = SentenceTransformer(\"all-MiniLM-L6-v2\")\n",
    "\n",
    "unique_topics = []\n",
    "\n",
    "for year, model, df in yearly_topic_data:\n",
    "    for topic_id, label in df[[\"topic\", \"topic_label\"]].drop_duplicates().values:\n",
    "        unique_topics.append((year, topic_id, label))"
   ]
  },
  {
   "cell_type": "code",
   "execution_count": 60,
   "id": "9bce6d68",
   "metadata": {},
   "outputs": [
    {
     "name": "stdout",
     "output_type": "stream",
     "text": [
      "Best k = 8 with silhouette score = 0.134\n"
     ]
    }
   ],
   "source": [
    "from sklearn.preprocessing import normalize\n",
    "from sklearn.cluster import KMeans\n",
    "from sklearn.metrics import silhouette_score\n",
    "\n",
    "vectors = [encoder.encode(label) for (_, _, label) in unique_topics]\n",
    "vectors_norm = normalize(vectors, norm='l2')\n",
    "\n",
    "best_k = None\n",
    "best_score = -1\n",
    "best_model = None\n",
    "\n",
    "for k in range(2, 15):\n",
    "    kmeans = KMeans(n_clusters=k, random_state=42, n_init=\"auto\")\n",
    "    group_ids = kmeans.fit_predict(vectors_norm)\n",
    "    score = silhouette_score(vectors_norm, group_ids)\n",
    "    # print(f\"k={k}, silhouette_score={score:.3f}\")\n",
    "    \n",
    "    if score > best_score:\n",
    "        best_k = k\n",
    "        best_score = score\n",
    "        best_model = kmeans\n",
    "\n",
    "print(f\"Best k = {best_k} with silhouette score = {best_score:.3f}\")\n",
    "\n",
    "group_ids = best_model.labels_"
   ]
  },
  {
   "cell_type": "code",
   "execution_count": 61,
   "id": "b3dc9e91",
   "metadata": {},
   "outputs": [],
   "source": [
    "# Create mapping: (year, topic_id) to meta-topic group_id\n",
    "topic_to_meta = {\n",
    "    (year, topic_id): group_id\n",
    "    for (year, topic_id, _), group_id in zip(unique_topics, group_ids)\n",
    "}\n",
    "\n",
    "meta_topic_df = pd.concat([\n",
    "    df.assign(group_id=df[\"topic\"].map(lambda tid: topic_to_meta.get((year, tid))))\n",
    "    for year, model, df in yearly_topic_data\n",
    "])\n",
    "\n",
    "# Count per year\n",
    "evolution = meta_topic_df.groupby([\"group_id\", \"year\"]).size().unstack().fillna(0)"
   ]
  },
  {
   "cell_type": "code",
   "execution_count": 62,
   "id": "d85e690d",
   "metadata": {},
   "outputs": [
    {
     "data": {
      "text/plain": [
       "<Figure size 2000x600 with 0 Axes>"
      ]
     },
     "metadata": {},
     "output_type": "display_data"
    },
    {
     "data": {
      "image/png": "[encoded data removed]",
      "text/plain": [
       "<Figure size 1400x600 with 1 Axes>"
      ]
     },
     "metadata": {},
     "output_type": "display_data"
    }
   ],
   "source": [
    "group_labels = meta_topic_df.groupby(\"group_id\")[\"topic_label\"].agg(lambda x: x.value_counts().index[0]).to_dict()\n",
    "\n",
    "plt.figure(figsize=(20, 6))\n",
    "evolution.T.rename(index=group_labels).plot(\n",
    "    kind=\"bar\", stacked=True, figsize=(14, 6),\n",
    "    colormap=\"tab10\"\n",
    ")\n",
    "plt.title(\"Evolution of Key Aviation Topics Over Time\")\n",
    "plt.xlabel(\"Year\")\n",
    "plt.ylabel(\"Topic Count\")\n",
    "plt.legend(title=\"Topic Area\", bbox_to_anchor=(1.05, 1))\n",
    "plt.grid(True, alpha = 0.5, linestyle = \"--\")\n",
    "plt.gca().spines['right'].set_visible(False)\n",
    "plt.gca().spines['top'].set_visible(False)\n",
    "plt.tight_layout()\n",
    "plt.show()"
   ]
  },
  {
   "cell_type": "code",
   "execution_count": 63,
   "id": "0043afb7",
   "metadata": {},
   "outputs": [
    {
     "name": "stdout",
     "output_type": "stream",
     "text": [
      "0: emissions, fuel, european, charges, airport, airports, icao, environmental, scheme, new\n",
      "\n",
      "1: fuel, cargo, security, savings, new, global, passenger, airports, international, airline\n",
      "\n",
      "2: safety, cargo, security, management, data, iosa, accidents, airline, operations, flight\n",
      "\n",
      "3: executive, officer, chief, saf, governments, emissions, aid, chairman, government, demand\n",
      "\n",
      "4: cargo, passenger, safety, global, security, airline, airport, fuel, airports, passengers\n",
      "\n",
      "5: cargo, economics, growth, jul, yoy, demand, global, international, source, sustainability\n",
      "\n",
      "6: cargo, data, solutions, ndc, global, settlement, order, iss, program, tact\n",
      "\n",
      "7: growth, markets, economic, freight, fuel, passenger, profits, market, load, business\n",
      "\n"
     ]
    }
   ],
   "source": [
    "group_labels = meta_topic_df.groupby(\"group_id\")[\"topic_label\"].agg(lambda x: x.value_counts().index[0])\n",
    "for i, group in enumerate(group_labels):\n",
    "    print(f\"{i}: {group}\", end = \"\\n\\n\")"
   ]
  },
  {
   "cell_type": "code",
   "execution_count": null,
   "id": "3aea3c61",
   "metadata": {},
   "outputs": [],
   "source": []
  }
 ],
 "metadata": {
  "kernelspec": {
   "display_name": ".venv",
   "language": "python",
   "name": "python3"
  },
  "language_info": {
   "codemirror_mode": {
    "name": "ipython",
    "version": 3
   },
   "file_extension": ".py",
   "mimetype": "text/x-python",
   "name": "python",
   "nbconvert_exporter": "python",
   "pygments_lexer": "ipython3",
   "version": "3.12.3"
  }
 },
 "nbformat": 4,
 "nbformat_minor": 5
}
