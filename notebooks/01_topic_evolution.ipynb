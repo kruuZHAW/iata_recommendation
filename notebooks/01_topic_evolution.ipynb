{
 "cells": [
  {
   "cell_type": "code",
   "execution_count": 1,
   "id": "e358c8be",
   "metadata": {},
   "outputs": [
    {
     "name": "stderr",
     "output_type": "stream",
     "text": [
      "c:\\Users\\kruu\\git_folder\\iata_recommendation\\.venv\\Lib\\site-packages\\tqdm\\auto.py:21: TqdmWarning: IProgress not found. Please update jupyter and ipywidgets. See https://ipywidgets.readthedocs.io/en/stable/user_install.html\n",
      "  from .autonotebook import tqdm as notebook_tqdm\n",
      "[nltk_data] Downloading package punkt to\n",
      "[nltk_data]     C:\\Users\\kruu\\AppData\\Roaming\\nltk_data...\n",
      "[nltk_data]   Package punkt is already up-to-date!\n",
      "[nltk_data] Downloading package stopwords to\n",
      "[nltk_data]     C:\\Users\\kruu\\AppData\\Roaming\\nltk_data...\n",
      "[nltk_data]   Package stopwords is already up-to-date!\n"
     ]
    }
   ],
   "source": [
    "import os\n",
    "import sys\n",
    "from pathlib import Path\n",
    "\n",
    "import re\n",
    "import pandas as pd\n",
    "import numpy as np\n",
    "import pickle\n",
    "import matplotlib.pyplot as plt\n",
    "\n",
    "from sklearn.feature_extraction.text import CountVectorizer\n",
    "from sklearn.feature_extraction import text\n",
    "from sentence_transformers import SentenceTransformer\n",
    "from bertopic import BERTopic\n",
    "\n",
    "current_dir = os.getcwd()\n",
    "parent_dir = os.path.abspath(os.path.join(current_dir, \"..\"))\n",
    "sys.path.append(parent_dir)\n",
    "\n",
    "\n",
    "from src.utils import IATAProcessor\n",
    "processor = IATAProcessor(custom_stopwords=[\"iata\", \"aviation\", \"air\", \"industry\", \"iatas\", \"airlines\", \"aircraft\", \"billion\", \"million\", \"travel\"])\n",
    "\n",
    "embedding_model = SentenceTransformer(\"all-MiniLM-L6-v2\")"
   ]
  },
  {
   "cell_type": "markdown",
   "id": "59d6637f",
   "metadata": {},
   "source": [
    "****\n",
    "# Topic Extraction\n",
    "****"
   ]
  },
  {
   "cell_type": "markdown",
   "id": "8b87cc3d",
   "metadata": {},
   "source": [
    "Processing tasks:\n",
    "- Extract text from pdf\n",
    "- Chunk text into group of sentences (default 5) using sent_tokenize\n",
    "- Clean chunks by converting to lowercases, removing ponctuation and stopwords\n",
    "\n",
    "Embedding:\n",
    "- Using HugginFace MiniLM-L6-v2\n",
    "\n",
    "Topic Modeling:\n",
    "- Use BERTopic\n",
    "- First dimensionality reduction using UMAP\n",
    "- Then HDBSCAN for clustering chunks with similar semantics\n",
    "- Finaly TF-IDF to rank keywords that represent each topic\n",
    "- Using vectorizer in BERTopi to specify how to turn the clean text into a bag-of-words representation for keyword representation."
   ]
  },
  {
   "cell_type": "code",
   "execution_count": null,
   "id": "d93dcc03",
   "metadata": {},
   "outputs": [],
   "source": [
    "data_dir = Path(\"../data\")\n",
    "pdf_files = sorted(data_dir.glob(\"iata-annual-review-*.pdf\"))\n",
    "\n",
    "yearly_topic_data = []\n",
    "\n",
    "for pdf in pdf_files:\n",
    "    year_match = re.search(r\"(\\d{4})\", pdf.stem)\n",
    "    if not year_match:\n",
    "        continue\n",
    "    year = int(year_match.group(1))\n",
    "\n",
    "    print(f\"Processing {pdf.name} for year {year}\")\n",
    "    cleaned_chunks = processor.preprocess_pdf(pdf, chunk_size=5)\n",
    "    embeddings = embedding_model.encode(cleaned_chunks, show_progress_bar=True)\n",
    "\n",
    "    vectorizer = CountVectorizer(stop_words=list(processor.stopwords))\n",
    "    topic_model = BERTopic(vectorizer_model=vectorizer, verbose=False)\n",
    "    topics, _ = topic_model.fit_transform(cleaned_chunks, embeddings)\n",
    "    \n",
    "    topic_keywords = {\n",
    "        topic_id: \", \".join([word for word, _ in topic_model.get_topic(topic_id)])\n",
    "        for topic_id in set(topics)\n",
    "        if topic_id != -1  # exclude outlier topic\n",
    "    }\n",
    "\n",
    "    df = pd.DataFrame({\n",
    "        \"year\": [year] * len(cleaned_chunks),\n",
    "        \"chunk\": cleaned_chunks,\n",
    "        \"topic\": topics\n",
    "    })\n",
    "    \n",
    "    print(f\"Proportion of unassigned chunks: {len(df[df.topic == -1]) / len(cleaned_chunks)}\", end = \"\\n\\n\")\n",
    "    \n",
    "    df = df[df.topic != -1]  # Remove outliers\n",
    "\n",
    "    df[\"topic_label\"] = df[\"topic\"].map(topic_keywords)\n",
    "    \n",
    "    yearly_topic_data.append((year, topic_model, df))\n",
    "  \n",
    "#Create saving directory    \n",
    "Path(\"../artifacts\").mkdir(exist_ok=True)\n",
    "with open(\"../artifacts/yearly_topic_data.pkl\", \"wb\") as f:\n",
    "    pickle.dump(yearly_topic_data, f)\n",
    "print(\"Saved yearly_topic_data to artifacts/yearly_topic_data.pkl\")\n"
   ]
  },
  {
   "cell_type": "code",
   "execution_count": 5,
   "id": "02af48b5",
   "metadata": {},
   "outputs": [
    {
     "name": "stdout",
     "output_type": "stream",
     "text": [
      "2005 — Top Words:\n",
      "   new: 64\n",
      "   security: 40\n",
      "   safety: 40\n",
      "   cargo: 40\n",
      "   international: 40\n",
      "2006 — Top Words:\n",
      "   efficiency: 72\n",
      "   safety: 70\n",
      "   security: 70\n",
      "   cargo: 70\n",
      "   data: 70\n",
      "2007 — Top Words:\n",
      "   fuel: 50\n",
      "   emissions: 50\n",
      "   charges: 50\n",
      "   growth: 50\n",
      "   years: 50\n",
      "2008 — Top Words:\n",
      "   passenger: 141\n",
      "   safety: 121\n",
      "   new: 121\n",
      "   airports: 121\n",
      "   cargo: 121\n",
      "2009 — Top Words:\n",
      "   savings: 90\n",
      "   fuel: 67\n",
      "   cargo: 47\n",
      "   airports: 47\n",
      "   security: 47\n",
      "2010 — Top Words:\n",
      "   safety: 128\n",
      "   cargo: 128\n",
      "   airports: 128\n",
      "   global: 128\n",
      "   program: 128\n",
      "2011 — Top Words:\n",
      "   safety: 140\n",
      "   security: 140\n",
      "   program: 140\n",
      "   global: 140\n",
      "   airports: 140\n",
      "2012 — Top Words:\n",
      "   airline: 174\n",
      "   global: 153\n",
      "   safety: 153\n",
      "   passenger: 153\n",
      "   security: 153\n",
      "2013 — Top Words:\n",
      "   passenger: 134\n",
      "   fuel: 104\n",
      "   cargo: 103\n",
      "   security: 103\n",
      "   passengers: 103\n",
      "2014 — Top Words:\n",
      "   passenger: 110\n",
      "   cargo: 84\n",
      "   data: 82\n",
      "   security: 64\n",
      "   ndc: 64\n",
      "2015 — Top Words:\n",
      "   cargo: 200\n",
      "   passenger: 200\n",
      "   safety: 200\n",
      "   global: 200\n",
      "   security: 200\n",
      "2016 — Top Words:\n",
      "   passenger: 61\n",
      "   fuel: 47\n",
      "   ndc: 38\n",
      "   cargo: 38\n",
      "   agents: 38\n",
      "2017 — Top Words:\n",
      "   airline: 45\n",
      "   airports: 39\n",
      "   information: 34\n",
      "   passengers: 33\n",
      "   passenger: 32\n",
      "2018 — Top Words:\n",
      "   airports: 40\n",
      "   data: 34\n",
      "   passenger: 30\n",
      "   process: 29\n",
      "   airport: 26\n",
      "2019 — Top Words:\n",
      "   passenger: 45\n",
      "   airport: 42\n",
      "   infrastructure: 42\n",
      "   airports: 42\n",
      "   capacity: 42\n",
      "2020 — Top Words:\n",
      "   covid: 47\n",
      "   measures: 47\n",
      "   health: 47\n",
      "   safety: 47\n",
      "   governments: 47\n",
      "2021 — Top Words:\n",
      "   covid: 30\n",
      "   cargo: 30\n",
      "   health: 30\n",
      "   passenger: 30\n",
      "   testing: 30\n",
      "2022 — Top Words:\n",
      "   safety: 72\n",
      "   governments: 72\n",
      "   executive: 72\n",
      "   chief: 72\n",
      "   emissions: 72\n",
      "2023 — Top Words:\n",
      "   passenger: 143\n",
      "   safety: 122\n",
      "   saf: 122\n",
      "   review: 122\n",
      "   annual: 122\n",
      "2024 — Top Words:\n",
      "   cargo: 187\n",
      "   international: 187\n",
      "   safety: 166\n",
      "   saf: 166\n",
      "   airport: 166\n"
     ]
    }
   ],
   "source": [
    "from collections import defaultdict, Counter\n",
    "\n",
    "# year -> Counter of words (with frequency from repeated labels)\n",
    "yearly_word_counts = defaultdict(Counter)\n",
    "\n",
    "for year, model, df in yearly_topic_data:\n",
    "    # Count how many times each topic_label appears\n",
    "    label_counts = df[\"topic_label\"].value_counts()\n",
    "    \n",
    "    for label, count in label_counts.items():\n",
    "        words = label.lower().split(\", \")\n",
    "        for word in words:\n",
    "            yearly_word_counts[year][word] += count\n",
    "            \n",
    "for year in sorted(yearly_word_counts):\n",
    "    print(f\"{year} — Top Words:\")\n",
    "    for word, count in yearly_word_counts[year].most_common(5):\n",
    "        print(f\"   {word}: {count}\", end = \"\\n\")"
   ]
  },
  {
   "cell_type": "markdown",
   "id": "8f539e80",
   "metadata": {},
   "source": [
    "****\n",
    "# Grouping similar Topic ID through semantics\n",
    "****"
   ]
  },
  {
   "cell_type": "markdown",
   "id": "708bb04d",
   "metadata": {},
   "source": [
    "Evaluate topic evolution:\n",
    "- Create embeddings on the previously found topic ids for all years\n",
    "- Group similar embeddings with Kmeans"
   ]
  },
  {
   "cell_type": "code",
   "execution_count": 6,
   "id": "520b6316",
   "metadata": {},
   "outputs": [],
   "source": [
    "encoder = SentenceTransformer(\"all-MiniLM-L6-v2\")\n",
    "\n",
    "unique_topics = []\n",
    "\n",
    "for year, model, df in yearly_topic_data:\n",
    "    for topic_id, label in df[[\"topic\", \"topic_label\"]].drop_duplicates().values:\n",
    "        unique_topics.append((year, topic_id, label))"
   ]
  },
  {
   "cell_type": "code",
   "execution_count": 7,
   "id": "9bce6d68",
   "metadata": {},
   "outputs": [
    {
     "name": "stderr",
     "output_type": "stream",
     "text": [
      "Exception in thread Thread-7 (_readerthread):\n",
      "Traceback (most recent call last):\n",
      "  File \"C:\\Users\\kruu\\AppData\\Local\\miniconda3\\Lib\\threading.py\", line 1073, in _bootstrap_inner\n",
      "    self.run()\n",
      "  File \"c:\\Users\\kruu\\git_folder\\iata_recommendation\\.venv\\Lib\\site-packages\\ipykernel\\ipkernel.py\", line 766, in run_closure\n",
      "    _threading_Thread_run(self)\n",
      "  File \"C:\\Users\\kruu\\AppData\\Local\\miniconda3\\Lib\\threading.py\", line 1010, in run\n",
      "    self._target(*self._args, **self._kwargs)\n",
      "  File \"C:\\Users\\kruu\\AppData\\Local\\miniconda3\\Lib\\subprocess.py\", line 1599, in _readerthread\n",
      "    buffer.append(fh.read())\n",
      "                  ^^^^^^^^^\n",
      "  File \"C:\\Users\\kruu\\AppData\\Local\\miniconda3\\Lib\\encodings\\cp1252.py\", line 23, in decode\n",
      "    return codecs.charmap_decode(input,self.errors,decoding_table)[0]\n",
      "           ^^^^^^^^^^^^^^^^^^^^^^^^^^^^^^^^^^^^^^^^^^^^^^^^^^^^^^^\n",
      "UnicodeDecodeError: 'charmap' codec can't decode byte 0x81 in position 3: character maps to <undefined>\n",
      "  File \"c:\\Users\\kruu\\git_folder\\iata_recommendation\\.venv\\Lib\\site-packages\\joblib\\externals\\loky\\backend\\context.py\", line 282, in _count_physical_cores\n",
      "    raise ValueError(f\"found {cpu_count_physical} physical cores < 1\")\n"
     ]
    },
    {
     "name": "stdout",
     "output_type": "stream",
     "text": [
      "k=2, silhouette_score=0.094\n",
      "k=3, silhouette_score=0.111\n",
      "k=4, silhouette_score=0.129\n",
      "k=5, silhouette_score=0.103\n",
      "k=6, silhouette_score=0.125\n",
      "k=7, silhouette_score=0.118\n",
      "k=8, silhouette_score=0.129\n",
      "k=9, silhouette_score=0.127\n",
      "k=10, silhouette_score=0.120\n",
      "k=11, silhouette_score=0.108\n",
      "k=12, silhouette_score=0.111\n",
      "k=13, silhouette_score=0.117\n",
      "k=14, silhouette_score=0.097\n",
      "Best k = 8 with silhouette score = 0.129\n"
     ]
    }
   ],
   "source": [
    "from sklearn.preprocessing import normalize\n",
    "from sklearn.cluster import KMeans\n",
    "from sklearn.metrics import silhouette_score\n",
    "\n",
    "vectors = [encoder.encode(label) for (_, _, label) in unique_topics]\n",
    "vectors_norm = normalize(vectors, norm='l2')\n",
    "\n",
    "best_k = None\n",
    "best_score = -1\n",
    "best_model = None\n",
    "\n",
    "for k in range(2, 15):\n",
    "    kmeans = KMeans(n_clusters=k, random_state=42, n_init=\"auto\")\n",
    "    group_ids = kmeans.fit_predict(vectors_norm)\n",
    "    score = silhouette_score(vectors_norm, group_ids)\n",
    "    print(f\"k={k}, silhouette_score={score:.3f}\")\n",
    "    \n",
    "    if score > best_score:\n",
    "        best_k = k\n",
    "        best_score = score\n",
    "        best_model = kmeans\n",
    "\n",
    "print(f\"Best k = {best_k} with silhouette score = {best_score:.3f}\")\n",
    "\n",
    "group_ids = best_model.labels_"
   ]
  },
  {
   "cell_type": "code",
   "execution_count": null,
   "id": "b3dc9e91",
   "metadata": {},
   "outputs": [],
   "source": [
    "# Assigning each topic from BERTopic to a Kmeans cluster\n",
    "topic_to_meta = {\n",
    "    (year, topic_id): group_id\n",
    "    for (year, topic_id, _), group_id in zip(unique_topics, group_ids)\n",
    "}\n",
    "\n",
    "meta_topic_df = pd.concat([\n",
    "    df.assign(group_id=df[\"topic\"].map(lambda tid: topic_to_meta.get((year, tid))))\n",
    "    for year, model, df in yearly_topic_data\n",
    "])\n",
    "\n",
    "# Count per year\n",
    "evolution = meta_topic_df.groupby([\"group_id\", \"year\"]).size().unstack().fillna(0)"
   ]
  },
  {
   "cell_type": "code",
   "execution_count": null,
   "id": "8798380e",
   "metadata": {},
   "outputs": [
    {
     "data": {
      "text/plain": [
       "{0: 'passenger, cargo, chief, executive, officer',\n",
       " 1: 'safety, saf, airline, review, annual',\n",
       " 2: 'growth, markets, passenger, fuel, freight',\n",
       " 3: 'cargo, security, passenger, global, safety',\n",
       " 4: 'emissions, fuel, environmental, carbon, charges',\n",
       " 5: 'safety, iosa, accidents, audit, accident',\n",
       " 6: 'settlement, ndc, order, passenger, airline',\n",
       " 7: 'airport, airports, charges, infrastructure, international'}"
      ]
     },
     "execution_count": 20,
     "metadata": {},
     "output_type": "execute_result"
    }
   ],
   "source": [
    "from collections import Counter\n",
    "\n",
    "# Topic keywords chosen according to the most frequent label per group (entire list of keywords) \n",
    "group_keywords = {}\n",
    "\n",
    "for group_id, group_df in meta_topic_df.groupby(\"group_id\"):\n",
    "    all_words = []\n",
    "    for label in group_df[\"topic_label\"]:\n",
    "        all_words.extend(label.lower().split(\", \"))\n",
    "    top_keywords = [word for word, _ in Counter(all_words).most_common(5)]\n",
    "    group_keywords[group_id] = \", \".join(top_keywords)\n",
    "\n",
    "group_keywords"
   ]
  },
  {
   "cell_type": "code",
   "execution_count": 22,
   "id": "514eeffa",
   "metadata": {},
   "outputs": [
    {
     "data": {
      "text/plain": [
       "{0: 'passenger, ndc, cargo, agents, data, passengers, experience, global, new, order',\n",
       " 1: 'safety, saf, airport, annual, airline, cargo, review, international, data, emissions',\n",
       " 2: 'markets, fuel, year, revenues, freight, cash, average, growth, capacity, prerecession',\n",
       " 3: 'cargo, passenger, safety, global, security, airline, airport, fuel, airports, passengers',\n",
       " 4: 'fuel, transport, efficiency, tax, airline, emissions, years, costs, global, oil',\n",
       " 5: 'safety, management, accidents, iosa, cargo, operations, flight, airline, issues, audit',\n",
       " 6: 'agents, ndc, settlement, order, services, bsp, baggage, airline, payments, passenger',\n",
       " 7: 'airport, infrastructure, airports, capacity, charges, slot, regulation, investment, regulatory, privatization'}"
      ]
     },
     "execution_count": 22,
     "metadata": {},
     "output_type": "execute_result"
    }
   ],
   "source": [
    "group_labels = (\n",
    "    meta_topic_df.groupby(\"group_id\")[\"topic_label\"]\n",
    "    .agg(lambda x: x.value_counts().index[0])  # Most frequent label per group\n",
    "    .to_dict()\n",
    ")\n",
    "group_labels"
   ]
  },
  {
   "cell_type": "code",
   "execution_count": null,
   "id": "d85e690d",
   "metadata": {},
   "outputs": [
    {
     "data": {
      "text/plain": [
       "<Figure size 2000x600 with 0 Axes>"
      ]
     },
     "metadata": {},
     "output_type": "display_data"
    },
    {
     "data": {
      "image/png": "[encoded data removed]",
      "text/plain": [
       "<Figure size 1400x600 with 1 Axes>"
      ]
     },
     "metadata": {},
     "output_type": "display_data"
    }
   ],
   "source": [
    "plt.figure(figsize=(20, 6))\n",
    "evolution.T.rename(index=group_labels).plot(\n",
    "    kind=\"bar\", stacked=True, figsize=(14, 6),\n",
    "    colormap=\"tab20\"\n",
    ")\n",
    "plt.title(\"Evolution of Key Aviation Topics Over Time\")\n",
    "plt.xlabel(\"Year\")\n",
    "plt.ylabel(\"Topic Count\")\n",
    "plt.legend(title=\"Topic Area\", bbox_to_anchor=(1.05, 1))\n",
    "plt.grid(True, alpha = 0.5, linestyle = \"--\")\n",
    "plt.gca().spines['right'].set_visible(False)\n",
    "plt.gca().spines['top'].set_visible(False)\n",
    "plt.tight_layout()\n",
    "plt.show()"
   ]
  },
  {
   "cell_type": "code",
   "execution_count": 13,
   "id": "efec0c46",
   "metadata": {},
   "outputs": [
    {
     "name": "stdout",
     "output_type": "stream",
     "text": [
      "group_id\n",
      "1    5.754887\n",
      "6    0.133083\n",
      "0    0.122556\n",
      "2    0.118045\n",
      "7   -0.042857\n",
      "5   -0.235338\n",
      "4   -1.657143\n",
      "3   -4.507519\n",
      "dtype: float64\n"
     ]
    }
   ],
   "source": [
    "# Detect fastest growing topics\n",
    "slopes = evolution.apply(lambda x: np.polyfit(evolution.columns, x, 1)[0], axis=1)\n",
    "print(slopes.sort_values(ascending=False))  # Fastest-growing topics at top"
   ]
  },
  {
   "cell_type": "code",
   "execution_count": null,
   "id": "a4e85418",
   "metadata": {},
   "outputs": [],
   "source": []
  }
 ],
 "metadata": {
  "kernelspec": {
   "display_name": ".venv",
   "language": "python",
   "name": "python3"
  },
  "language_info": {
   "codemirror_mode": {
    "name": "ipython",
    "version": 3
   },
   "file_extension": ".py",
   "mimetype": "text/x-python",
   "name": "python",
   "nbconvert_exporter": "python",
   "pygments_lexer": "ipython3",
   "version": "3.12.3"
  }
 },
 "nbformat": 4,
 "nbformat_minor": 5
}
