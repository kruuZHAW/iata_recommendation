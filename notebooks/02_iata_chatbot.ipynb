{
 "cells": [
  {
   "cell_type": "code",
   "execution_count": null,
   "id": "6604b4c1",
   "metadata": {},
   "outputs": [
    {
     "name": "stderr",
     "output_type": "stream",
     "text": [
      "c:\\Users\\kruu\\git_folder\\iata_recommendation\\.venv\\Lib\\site-packages\\tqdm\\auto.py:21: TqdmWarning: IProgress not found. Please update jupyter and ipywidgets. See https://ipywidgets.readthedocs.io/en/stable/user_install.html\n",
      "  from .autonotebook import tqdm as notebook_tqdm\n"
     ]
    },
    {
     "ename": "ModuleNotFoundError",
     "evalue": "No module named 'src'",
     "output_type": "error",
     "traceback": [
      "\u001b[31m---------------------------------------------------------------------------\u001b[39m",
      "\u001b[31mModuleNotFoundError\u001b[39m                       Traceback (most recent call last)",
      "\u001b[36mCell\u001b[39m\u001b[36m \u001b[39m\u001b[32mIn[1]\u001b[39m\u001b[32m, line 15\u001b[39m\n\u001b[32m     12\u001b[39m \u001b[38;5;28;01mfrom\u001b[39;00m\u001b[38;5;250m \u001b[39m\u001b[34;01msentence_transformers\u001b[39;00m\u001b[38;5;250m \u001b[39m\u001b[38;5;28;01mimport\u001b[39;00m SentenceTransformer\n\u001b[32m     13\u001b[39m model = SentenceTransformer(\u001b[33m\"\u001b[39m\u001b[33mall-MiniLM-L6-v2\u001b[39m\u001b[33m\"\u001b[39m)\n\u001b[32m---> \u001b[39m\u001b[32m15\u001b[39m \u001b[38;5;28;01mfrom\u001b[39;00m\u001b[38;5;250m \u001b[39m\u001b[34;01msrc\u001b[39;00m\u001b[34;01m.\u001b[39;00m\u001b[34;01mutils\u001b[39;00m\u001b[38;5;250m \u001b[39m\u001b[38;5;28;01mimport\u001b[39;00m IATAProcessor\n\u001b[32m     16\u001b[39m processor = IATAProcessor()\n\u001b[32m     18\u001b[39m \u001b[38;5;28;01mimport\u001b[39;00m\u001b[38;5;250m \u001b[39m\u001b[34;01mollama\u001b[39;00m\n",
      "\u001b[31mModuleNotFoundError\u001b[39m: No module named 'src'"
     ]
    }
   ],
   "source": [
    "import os\n",
    "import sys\n",
    "from pathlib import Path\n",
    "import re\n",
    "\n",
    "import requests\n",
    "\n",
    "import faiss\n",
    "import numpy as np\n",
    "import pickle\n",
    "\n",
    "from sentence_transformers import SentenceTransformer\n",
    "model = SentenceTransformer(\"all-MiniLM-L6-v2\")\n",
    "\n",
    "import ollama\n",
    "\n",
    "current_dir = os.getcwd()\n",
    "parent_dir = os.path.abspath(os.path.join(current_dir, \"..\"))\n",
    "sys.path.append(parent_dir)\n",
    "\n",
    "from src.utils import IATAProcessor\n",
    "processor = IATAProcessor()\n"
   ]
  },
  {
   "cell_type": "markdown",
   "id": "2a6334ae",
   "metadata": {},
   "source": [
    "****\n",
    "# Chunking without cleaning stopwords\n",
    "****"
   ]
  },
  {
   "cell_type": "code",
   "execution_count": null,
   "id": "77c9c3f3",
   "metadata": {},
   "outputs": [
    {
     "name": "stdout",
     "output_type": "stream",
     "text": [
      "Processing iata-annual-review-2005.pdf for year 2005\n",
      "Processing iata-annual-review-2006.pdf for year 2006\n",
      "Processing iata-annual-review-2007.pdf for year 2007\n",
      "Processing iata-annual-review-2008.pdf for year 2008\n",
      "Processing iata-annual-review-2009.pdf for year 2009\n",
      "Processing iata-annual-review-2010.pdf for year 2010\n",
      "Processing iata-annual-review-2011.pdf for year 2011\n",
      "Processing iata-annual-review-2012.pdf for year 2012\n",
      "Processing iata-annual-review-2013.pdf for year 2013\n",
      "Processing iata-annual-review-2014.pdf for year 2014\n",
      "Processing iata-annual-review-2015.pdf for year 2015\n",
      "Processing iata-annual-review-2016.pdf for year 2016\n",
      "Processing iata-annual-review-2017.pdf for year 2017\n",
      "Processing iata-annual-review-2018.pdf for year 2018\n",
      "Processing iata-annual-review-2019.pdf for year 2019\n",
      "Processing iata-annual-review-2020.pdf for year 2020\n",
      "Processing iata-annual-review-2021.pdf for year 2021\n",
      "Processing iata-annual-review-2022.pdf for year 2022\n",
      "Processing iata-annual-review-2023.pdf for year 2023\n",
      "Processing iata-annual-review-2024.pdf for year 2024\n"
     ]
    }
   ],
   "source": [
    "# Redo chunking without cleaning stopwords\n",
    "# data_dir = Path(\"../data\")\n",
    "# pdf_files = sorted(data_dir.glob(\"iata-annual-review-*.pdf\"))\n",
    "\n",
    "# all_chunks= []\n",
    "\n",
    "# for pdf in pdf_files:\n",
    "#     year_match = re.search(r\"(\\d{4})\", pdf.stem)\n",
    "#     if not year_match:\n",
    "#         continue\n",
    "#     year = int(year_match.group(1))\n",
    "\n",
    "#     print(f\"Processing {pdf.name} for year {year}\")\n",
    "#     raw_text = processor.extract_text_from_pdf(pdf)\n",
    "#     chunks = processor.chunk_text(raw_text, chunk_size=5)\n",
    "#     all_chunks.append(chunks)\n"
   ]
  },
  {
   "cell_type": "code",
   "execution_count": null,
   "id": "496a9aa4",
   "metadata": {},
   "outputs": [],
   "source": [
    "#Flatten the list\n",
    "# from itertools import chain\n",
    "# flat_chunks = list(chain.from_iterable(all_chunks))"
   ]
  },
  {
   "cell_type": "code",
   "execution_count": null,
   "id": "512eee25",
   "metadata": {},
   "outputs": [
    {
     "name": "stdout",
     "output_type": "stream",
     "text": [
      "Saved yearly_topic_data to artifacts/raw_chunks.pkl.pkl\n"
     ]
    }
   ],
   "source": [
    "# Path(\"../artifacts\").mkdir(exist_ok=True)\n",
    "# with open(\"../artifacts/raw_chunks.pkl\", \"wb\") as f:\n",
    "#     pickle.dump(flat_chunks, f)\n",
    "# print(\"Saved yearly_topic_data to artifacts/raw_chunks.pkl\")"
   ]
  },
  {
   "cell_type": "code",
   "execution_count": null,
   "id": "73355907",
   "metadata": {},
   "outputs": [],
   "source": [
    "chunk_file_path = os.path.join(parent_dir, \"artifacts\", \"raw_chunks.pkl\")\n",
    "with open(chunk_file_path, \"rb\") as chunk_file:\n",
    "    flat_chunks = pickle.load(chunk_file)"
   ]
  },
  {
   "cell_type": "markdown",
   "id": "32d167ae",
   "metadata": {},
   "source": [
    "****\n",
    "# Embedding chunks + FAISS index\n",
    "****"
   ]
  },
  {
   "cell_type": "code",
   "execution_count": 24,
   "id": "ad7d41c2",
   "metadata": {},
   "outputs": [],
   "source": [
    "embeddings = model.encode(flat_chunks)"
   ]
  },
  {
   "cell_type": "code",
   "execution_count": null,
   "id": "972d703a",
   "metadata": {},
   "outputs": [],
   "source": [
    "# Build FAISS index\n",
    "dimension = embeddings[0].shape[0]\n",
    "index = faiss.IndexFlatL2(dimension)\n",
    "index.add(np.array(embeddings))  # Store in-memory vector DB\n",
    "\n",
    "faiss.write_index(index, \"../artifacts/chunk_faiss_index.faiss\")"
   ]
  },
  {
   "cell_type": "markdown",
   "id": "ea1daf8b",
   "metadata": {},
   "source": [
    "****\n",
    "# Query function\n",
    "****"
   ]
  },
  {
   "cell_type": "code",
   "execution_count": 32,
   "id": "7793935f",
   "metadata": {},
   "outputs": [],
   "source": [
    "def retrieve_similar_chunks(query, model, index, chunks, k=5):\n",
    "    query_vec = model.encode([query])\n",
    "    distances, indices = index.search(np.array(query_vec), k)\n",
    "    return [chunks[i] for i in indices[0]]"
   ]
  },
  {
   "cell_type": "markdown",
   "id": "965c6550",
   "metadata": {},
   "source": [
    "****\n",
    "# Use ollama for answer generation\n",
    "****"
   ]
  },
  {
   "cell_type": "code",
   "execution_count": null,
   "id": "452450d1",
   "metadata": {},
   "outputs": [],
   "source": [
    "def generate_answer_with_ollama(query, context_chunks, model=\"mistral\"):\n",
    "    context = \"\\n\\n\".join(context_chunks)\n",
    "    prompt = f\"\"\"You are an aviation strategy analyst. Based on the following IATA report excerpts, answer the question:\n",
    "\n",
    "Context:\n",
    "{context}\n",
    "\n",
    "Question: {query}\n",
    "\n",
    "Answer:\"\"\"\n",
    "\n",
    "    response = ollama.chat(model=model, messages=[\n",
    "        {\"role\": \"user\", \"content\": prompt}\n",
    "    ])\n",
    "    \n",
    "    return response[\"message\"][\"content\"]\n"
   ]
  },
  {
   "cell_type": "markdown",
   "id": "25b710b3",
   "metadata": {},
   "source": [
    "****\n",
    "# Full query flow\n",
    "****"
   ]
  },
  {
   "cell_type": "code",
   "execution_count": 41,
   "id": "f54bfe3d",
   "metadata": {},
   "outputs": [
    {
     "data": {
      "text/plain": [
       "ProgressResponse(status='success', completed=None, total=None, digest=None)"
      ]
     },
     "execution_count": 41,
     "metadata": {},
     "output_type": "execute_result"
    }
   ],
   "source": [
    "ollama.pull('mistral')"
   ]
  },
  {
   "cell_type": "code",
   "execution_count": 43,
   "id": "1cfb8a3c",
   "metadata": {},
   "outputs": [
    {
     "name": "stdout",
     "output_type": "stream",
     "text": [
      "Generated Answer:\n",
      " 1. Aviation Industry's Commitment to Carbon Neutral Growth (CNG): The aviation industry has committed to achieve carbon neutral growth from 2020, and already has a plan in place to achieve this goal by 2050.\n",
      "\n",
      "2. Development of Sustainable Biofuels: Aviation is actively working towards the development of sustainable biofuels as an alternative to traditional fossil fuels. The industry is exploring three possible synthetic fuels derived from coal, natural gas, and biomass, with biomass offering the best emissions reductions.\n",
      "\n",
      "3. Four-Pillar Emissions Strategy: This strategy, adopted by the entire aviation industry in 2008, focuses on reducing emissions through four key pillars: operational efficiency, infrastructure, market-based measures, and alternative jet fuels. The strategy is estimated to save $5 billion in fuel costs.\n",
      "\n",
      "4. Infrastructure Improvements: Governments are urged to support essential infrastructure improvements that could help reduce aviation emissions. These improvements may lead to cost savings for the industry.\n",
      "\n",
      "5. Joint Action: Truly effective solutions require joint action from all stakeholders in the aviation sector, including airlines, manufacturers, and fuel suppliers.\n",
      "\n",
      "6. Dealing with Punitive Economic Measures: The aviation industry is dealing with often punitive economic measures levied by governments on airlines as they strive to reduce emissions.\n"
     ]
    }
   ],
   "source": [
    "# Load everything (if needed)\n",
    "index = faiss.read_index(\"../artifacts/chunk_faiss_index.faiss\")\n",
    "with open(\"../artifacts/raw_chunks.pkl\", \"rb\") as f:\n",
    "    chunks = pickle.load(f)\n",
    "\n",
    "# Ask a question\n",
    "query = \"What are the major sustainability initiatives\"\n",
    "top_chunks = retrieve_similar_chunks(query, model, index, chunks, k=5)\n",
    "answer = generate_answer_with_ollama(query, top_chunks)\n",
    "\n",
    "print(\"Generated Answer:\\n\", answer)"
   ]
  },
  {
   "cell_type": "code",
   "execution_count": null,
   "id": "d49513c0",
   "metadata": {},
   "outputs": [],
   "source": []
  }
 ],
 "metadata": {
  "kernelspec": {
   "display_name": ".venv",
   "language": "python",
   "name": "python3"
  },
  "language_info": {
   "codemirror_mode": {
    "name": "ipython",
    "version": 3
   },
   "file_extension": ".py",
   "mimetype": "text/x-python",
   "name": "python",
   "nbconvert_exporter": "python",
   "pygments_lexer": "ipython3",
   "version": "3.12.3"
  }
 },
 "nbformat": 4,
 "nbformat_minor": 5
}
